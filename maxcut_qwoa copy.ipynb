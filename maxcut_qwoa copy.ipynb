{
 "cells": [
  {
   "cell_type": "code",
   "execution_count": 1,
   "metadata": {},
   "outputs": [],
   "source": [
    "from qiskit import QuantumCircuit, execute, Aer, QuantumRegister, ClassicalRegister, transpile, assemble\n",
    "from qiskit.quantum_info.operators import Operator\n",
    "from cmath import exp\n",
    "from qiskit.tools.jupyter import *\n",
    "from qiskit.visualization import *\n",
    "from qiskit.circuit.library import QFT\n",
    "from qiskit.circuit import Parameter\n",
    "from qiskit.visualization import plot_histogram\n",
    "import networkx as nx\n",
    "import matplotlib.pyplot as plt\n",
    "from scipy.optimize import minimize\n",
    "import numpy as np\n",
    "import classical_maxcut as cmc\n",
    "\n",
    "COLOR = 'white'\n",
    "plt.rcParams['text.color'] = COLOR\n",
    "plt.rcParams['axes.labelcolor'] = COLOR\n",
    "plt.rcParams['xtick.color'] = COLOR\n",
    "plt.rcParams['ytick.color'] = COLOR"
   ]
  },
  {
   "cell_type": "code",
   "execution_count": 2,
   "metadata": {},
   "outputs": [],
   "source": [
    "\"\"\"Create graph\"\"\"\n",
    "def generate3RegGraph (number_of_nodes = 6):\n",
    "    return nx.random_regular_graph(3, number_of_nodes)"
   ]
  },
  {
   "cell_type": "code",
   "execution_count": 3,
   "metadata": {},
   "outputs": [],
   "source": [
    "\"\"\"Generate any circulant graph\"\"\"\n",
    "def circulant_graph(size, connections):\n",
    "    rtn = nx.Graph()\n",
    "    rtn.add_nodes_from(range(0,size))\n",
    "    edges = []\n",
    "    for distance in connections:\n",
    "        edges += [(i,(i+distance)%(size//2)) for i in range(0,(size//2))]\n",
    "    rtn.add_edges_from(edges)\n",
    "    return rtn"
   ]
  },
  {
   "cell_type": "code",
   "execution_count": 4,
   "metadata": {},
   "outputs": [],
   "source": [
    "\"\"\"Make diagonal operator and convert to circuit\"\"\"\n",
    "def parameterized_lambda(time, eigenvalues):\n",
    "    diagonalized_matrix = []\n",
    "    for col in range(len(eigenvalues)):\n",
    "        diagonalized_matrix.append([])\n",
    "        for row in range(len(eigenvalues)):\n",
    "            if row == col:\n",
    "                diagonalized_matrix[-1].append(exp(1j * time * eigenvalues[row]))\n",
    "            else:\n",
    "                diagonalized_matrix[-1].append(0)\n",
    "    return Operator(diagonalized_matrix)"
   ]
  },
  {
   "cell_type": "code",
   "execution_count": 5,
   "metadata": {},
   "outputs": [],
   "source": [
    "\"\"\"Quality function for any graph\"\"\"\n",
    "def quality(solution,graph):\n",
    "    if len(solution) != graph.number_of_nodes():\n",
    "        raise RuntimeError('Maxcut potential solution is not encoded correctly.')\n",
    "    quality = 0\n",
    "    for i, j in graph.edges():\n",
    "        if solution[i] != solution[j]:\n",
    "            quality += 1\n",
    "    return quality\n",
    "\n",
    "\n",
    "'''Computes average quality of all the bitstrings outputted by the circuit, accounting for multiplicity'''\n",
    "def compute_expectation(counts, graph):\n",
    "    avg = 0\n",
    "    sum_count = 0\n",
    "    for bitstring, count in counts.items():\n",
    "        \n",
    "        obj = quality(bitstring, graph)\n",
    "        avg += obj * count\n",
    "        sum_count += count\n",
    "        \n",
    "    return avg/sum_count"
   ]
  },
  {
   "cell_type": "code",
   "execution_count": 6,
   "metadata": {},
   "outputs": [],
   "source": [
    "def quality_quantum_circuit(graph):\n",
    "    problem_register = QuantumRegister(graph.number_of_nodes(), name='psi')\n",
    "    ancilla_register = QuantumRegister(graph.number_of_edges(), name='ancilla')\n",
    "    qc = QuantumCircuit(problem_register, ancilla_register, name = ' quality')\n",
    "    for ancilla_index, (i, j) in enumerate(graph.edges()):\n",
    "        qc.cx(i, j)\n",
    "        qc.cx(j, ancilla_index + graph.number_of_nodes())\n",
    "        qc.cx(i, j)\n",
    "    return qc"
   ]
  },
  {
   "cell_type": "code",
   "execution_count": 7,
   "metadata": {},
   "outputs": [],
   "source": [
    "'''Create exp gates as shown in figure 1 of the paper'''\n",
    "def exp_gate(i, gamma):\n",
    "    return Operator(\n",
    "        [[1, 0],\n",
    "         [0, exp(-1j * (2**i) * gamma)]]\n",
    "    )"
   ]
  },
  {
   "cell_type": "code",
   "execution_count": 8,
   "metadata": {},
   "outputs": [],
   "source": [
    "'''Create a depth 1 QWOA circuit based on input parameters'''\n",
    "def create_circuit(params, G, eigenvalues, p):\n",
    "    \n",
    "    # extract parameters\n",
    "    gamma = params[0::2]\n",
    "    time = params[1::2]\n",
    "\n",
    "    # define circuit\n",
    "    problem_register = QuantumRegister(G.number_of_nodes(), name='phi')\n",
    "    ancilla_register = QuantumRegister(G.number_of_edges(), name='ancilla')\n",
    "    output_register = ClassicalRegister(G.number_of_nodes(), name='output')\n",
    "    qc = QuantumCircuit(problem_register, ancilla_register, output_register)\n",
    "    \n",
    "    # initialize to a superposition over all valid states (in the case of maxcut, all states are valid)\n",
    "    qft_gate_start = QFT(G.number_of_nodes()-1, inverse=False).to_instruction()  \n",
    "    qc.append(qft_gate_start, list(range(0, G.number_of_nodes()-1)))\n",
    "\n",
    "    for x in range(p):\n",
    "\n",
    "        qc.barrier()\n",
    "\n",
    "        # compute quality\n",
    "        quality_gate = quality_quantum_circuit(G).to_gate()\n",
    "        qc.append(quality_gate, list(range(0, qc.num_qubits)))\n",
    "        \n",
    "        # apply gamma rotation to ancilla qubits\n",
    "        for i in range(0,G.number_of_edges()):\n",
    "            unitary = exp_gate(i, gamma[x])\n",
    "            qc.append(unitary, [G.number_of_nodes()+i])\n",
    "        \n",
    "        # reapply quality gate\n",
    "        qc.append(quality_gate, list(range(0, qc.num_qubits)))\n",
    "        \n",
    "        qc.barrier()\n",
    "        \n",
    "        #Set up fourier transform gates, look at operator matrix\n",
    "        inv_qft_gate = QFT(G.number_of_nodes(), inverse=True).to_instruction()  \n",
    "        qft_gate = QFT(G.number_of_nodes(), inverse=False).to_instruction()\n",
    "\n",
    "        # quantum fourier transform on the solution phi\n",
    "        qc.append(qft_gate, list(range(0, G.number_of_nodes())))\n",
    "        \n",
    "        lambda_gate = parameterized_lambda(time[x], eigenvalues[x])\n",
    "        qc.append(lambda_gate, list(range(0, G.number_of_nodes())))\n",
    "\n",
    "        qc.append(inv_qft_gate, list(range(0, G.number_of_nodes())))\n",
    "\n",
    "    qc.measure(list(range(0, G.number_of_nodes())),list(range(0, G.number_of_nodes())))\n",
    "\n",
    "    return qc\n"
   ]
  },
  {
   "cell_type": "code",
   "execution_count": 28,
   "metadata": {},
   "outputs": [],
   "source": [
    "def qwoaParameters(initial_parameters_list, graph, connectivity_list, p, show_graphs=True):\n",
    "    #Generate the circulant graph used as the solution space\n",
    "    eigenvaluesListOfLists = [0]*p\n",
    "    for x in range (p):\n",
    "        solution_space_graph = circulant_graph(1 << graph.number_of_nodes(), connectivity_list[x])\n",
    "        eigenvaluesListOfLists[x] = np.linalg.eig(nx.adjacency_matrix(solution_space_graph).todense())[0]\n",
    "\n",
    "    #Show the graphs if desired\n",
    "    if show_graphs:\n",
    "        plt.figure()\n",
    "        nx.draw_circular(graph, with_labels=True) #Draw the graph\n",
    "        plt.title(\"Graph on which to perform maxcut\")\n",
    "        plt.show()\n",
    "        plt.clf()\n",
    "        plt.figure(figsize=(15,15)) \n",
    "        nx.draw_circular(solution_space_graph, with_labels=True) #Draw the solution graph\n",
    "        #nx.draw_kamada_kawai(solution_space_graph, with_labels=True) #Draw the solution graph\n",
    "        plt.title(\"Circulant solution graph on which to walk\")\n",
    "        plt.show()\n",
    "        plt.clf()\n",
    "\n",
    "    return {\n",
    "        \"params\": initial_parameters_list, \n",
    "        \"G\": graph, \n",
    "        #\"solution_space_graph\": solution_space_graph, \n",
    "        #Generate eigenvalues of circulant graph\n",
    "        \"eigenvalues\":eigenvaluesListOfLists,\n",
    "        \"p\":p\n",
    "        }\n",
    "\n",
    "def run_simulation(initialParametersList, graph, connectivityList, p, showGraph=False):\n",
    "    \"\"\"Simulate circuit and train parameters\"\"\"\n",
    "    backend = Aer.get_backend('qasm_simulator')\n",
    "    backend.shots = 512\n",
    "\n",
    "    parameters = qwoaParameters(initialParametersList, graph, connectivityList, p, False)\n",
    "\n",
    "    def execute_circ(theta):\n",
    "        parameters[\"params\"] = theta\n",
    "        qc = create_circuit(**parameters)\n",
    "        test = transpile(qc, backend)\n",
    "        qobj = assemble(test)\n",
    "        counts = backend.run(qobj, seed_simulator=10, nshots=512).result().get_counts()\n",
    "        return -compute_expectation(counts, graph)\n",
    "        \n",
    "    res = minimize(execute_circ, initialParametersList, method='COBYLA')\n",
    "    parameters[\"params\"] = res.x\n",
    "    qc_res = create_circuit(**parameters)\n",
    "\n",
    "    test = transpile(qc_res, backend)\n",
    "    qobj = assemble(test)\n",
    "    counts = backend.run(qobj, seed_simulator=10).result().get_counts()\n",
    "    if showGraph:\n",
    "        display(plot_histogram(counts,figsize=(25, 15)))\n",
    "\n",
    "    answers = set(cmc.max_cut(graph)[2])\n",
    "    approximateAnswers = set({key:value for key,value in counts.items() if value == max(counts.values())}.keys())\n",
    "    return len(answers.intersection(approximateAnswers)) != 0 #Return if correct answer\n"
   ]
  },
  {
   "cell_type": "code",
   "execution_count": 31,
   "metadata": {},
   "outputs": [
    {
     "name": "stderr",
     "output_type": "stream",
     "text": [
      "/tmp/ipykernel_6677/1447484991.py:6: FutureWarning: adjacency_matrix will return a scipy.sparse array instead of a matrix in Networkx 3.0.\n",
      "  eigenvaluesListOfLists[x] = np.linalg.eig(nx.adjacency_matrix(solution_space_graph).todense())[0]\n"
     ]
    },
    {
     "name": "stdout",
     "output_type": "stream",
     "text": [
      "Successes: 1. total: 1\n",
      "1\n"
     ]
    },
    {
     "name": "stderr",
     "output_type": "stream",
     "text": [
      "capi_return is NULL\n",
      "Call-back cb_calcfc_in__cobyla__user__routines failed.\n"
     ]
    },
    {
     "ename": "KeyboardInterrupt",
     "evalue": "",
     "output_type": "error",
     "traceback": [
      "\u001b[0;31m---------------------------------------------------------------------------\u001b[0m",
      "\u001b[0;31mKeyboardInterrupt\u001b[0m                         Traceback (most recent call last)",
      "\u001b[1;32m/home/jeremy/Documents/Uni/2022/s1/comp2550/Assignment 3/ass3/comp2550-assignment-3/maxcut_qwoa copy.ipynb Cell 10'\u001b[0m in \u001b[0;36m<cell line: 6>\u001b[0;34m()\u001b[0m\n\u001b[1;32m      <a href='vscode-notebook-cell:/home/jeremy/Documents/Uni/2022/s1/comp2550/Assignment%203/ass3/comp2550-assignment-3/maxcut_qwoa%20copy.ipynb#ch0000009?line=7'>8</a>\u001b[0m connectivityList \u001b[39m=\u001b[39m [[\u001b[39m1\u001b[39m,\u001b[39m10\u001b[39m]] \u001b[39m*\u001b[39m p\n\u001b[1;32m      <a href='vscode-notebook-cell:/home/jeremy/Documents/Uni/2022/s1/comp2550/Assignment%203/ass3/comp2550-assignment-3/maxcut_qwoa%20copy.ipynb#ch0000009?line=8'>9</a>\u001b[0m initialParametersList \u001b[39m=\u001b[39m [\u001b[39m1\u001b[39m]\u001b[39m*\u001b[39m\u001b[39m2\u001b[39m\u001b[39m*\u001b[39mp\n\u001b[0;32m---> <a href='vscode-notebook-cell:/home/jeremy/Documents/Uni/2022/s1/comp2550/Assignment%203/ass3/comp2550-assignment-3/maxcut_qwoa%20copy.ipynb#ch0000009?line=9'>10</a>\u001b[0m successes\u001b[39m+\u001b[39m\u001b[39m=\u001b[39mrun_simulation(initialParametersList, graph, connectivityList, p)\n\u001b[1;32m     <a href='vscode-notebook-cell:/home/jeremy/Documents/Uni/2022/s1/comp2550/Assignment%203/ass3/comp2550-assignment-3/maxcut_qwoa%20copy.ipynb#ch0000009?line=10'>11</a>\u001b[0m total\u001b[39m+\u001b[39m\u001b[39m=\u001b[39m\u001b[39m1\u001b[39m\n\u001b[1;32m     <a href='vscode-notebook-cell:/home/jeremy/Documents/Uni/2022/s1/comp2550/Assignment%203/ass3/comp2550-assignment-3/maxcut_qwoa%20copy.ipynb#ch0000009?line=11'>12</a>\u001b[0m \u001b[39mprint\u001b[39m(\u001b[39mf\u001b[39m\u001b[39m\"\u001b[39m\u001b[39mSuccesses: \u001b[39m\u001b[39m{\u001b[39;00msuccesses\u001b[39m}\u001b[39;00m\u001b[39m. total: \u001b[39m\u001b[39m{\u001b[39;00mtotal\u001b[39m}\u001b[39;00m\u001b[39m\"\u001b[39m)\n",
      "\u001b[1;32m/home/jeremy/Documents/Uni/2022/s1/comp2550/Assignment 3/ass3/comp2550-assignment-3/maxcut_qwoa copy.ipynb Cell 9'\u001b[0m in \u001b[0;36mrun_simulation\u001b[0;34m(initialParametersList, graph, connectivityList, p, showGraph)\u001b[0m\n\u001b[1;32m     <a href='vscode-notebook-cell:/home/jeremy/Documents/Uni/2022/s1/comp2550/Assignment%203/ass3/comp2550-assignment-3/maxcut_qwoa%20copy.ipynb#ch0000008?line=42'>43</a>\u001b[0m     counts \u001b[39m=\u001b[39m backend\u001b[39m.\u001b[39mrun(qobj, seed_simulator\u001b[39m=\u001b[39m\u001b[39m10\u001b[39m, nshots\u001b[39m=\u001b[39m\u001b[39m512\u001b[39m)\u001b[39m.\u001b[39mresult()\u001b[39m.\u001b[39mget_counts()\n\u001b[1;32m     <a href='vscode-notebook-cell:/home/jeremy/Documents/Uni/2022/s1/comp2550/Assignment%203/ass3/comp2550-assignment-3/maxcut_qwoa%20copy.ipynb#ch0000008?line=43'>44</a>\u001b[0m     \u001b[39mreturn\u001b[39;00m \u001b[39m-\u001b[39mcompute_expectation(counts, graph)\n\u001b[0;32m---> <a href='vscode-notebook-cell:/home/jeremy/Documents/Uni/2022/s1/comp2550/Assignment%203/ass3/comp2550-assignment-3/maxcut_qwoa%20copy.ipynb#ch0000008?line=45'>46</a>\u001b[0m res \u001b[39m=\u001b[39m minimize(execute_circ, initialParametersList, method\u001b[39m=\u001b[39;49m\u001b[39m'\u001b[39;49m\u001b[39mCOBYLA\u001b[39;49m\u001b[39m'\u001b[39;49m)\n\u001b[1;32m     <a href='vscode-notebook-cell:/home/jeremy/Documents/Uni/2022/s1/comp2550/Assignment%203/ass3/comp2550-assignment-3/maxcut_qwoa%20copy.ipynb#ch0000008?line=46'>47</a>\u001b[0m parameters[\u001b[39m\"\u001b[39m\u001b[39mparams\u001b[39m\u001b[39m\"\u001b[39m] \u001b[39m=\u001b[39m res\u001b[39m.\u001b[39mx\n\u001b[1;32m     <a href='vscode-notebook-cell:/home/jeremy/Documents/Uni/2022/s1/comp2550/Assignment%203/ass3/comp2550-assignment-3/maxcut_qwoa%20copy.ipynb#ch0000008?line=47'>48</a>\u001b[0m qc_res \u001b[39m=\u001b[39m create_circuit(\u001b[39m*\u001b[39m\u001b[39m*\u001b[39mparameters)\n",
      "File \u001b[0;32m~/.local/lib/python3.9/site-packages/scipy/optimize/_minimize.py:687\u001b[0m, in \u001b[0;36mminimize\u001b[0;34m(fun, x0, args, method, jac, hess, hessp, bounds, constraints, tol, callback, options)\u001b[0m\n\u001b[1;32m    <a href='file:///home/jeremy/.local/lib/python3.9/site-packages/scipy/optimize/_minimize.py?line=683'>684</a>\u001b[0m     res \u001b[39m=\u001b[39m _minimize_tnc(fun, x0, args, jac, bounds, callback\u001b[39m=\u001b[39mcallback,\n\u001b[1;32m    <a href='file:///home/jeremy/.local/lib/python3.9/site-packages/scipy/optimize/_minimize.py?line=684'>685</a>\u001b[0m                         \u001b[39m*\u001b[39m\u001b[39m*\u001b[39moptions)\n\u001b[1;32m    <a href='file:///home/jeremy/.local/lib/python3.9/site-packages/scipy/optimize/_minimize.py?line=685'>686</a>\u001b[0m \u001b[39melif\u001b[39;00m meth \u001b[39m==\u001b[39m \u001b[39m'\u001b[39m\u001b[39mcobyla\u001b[39m\u001b[39m'\u001b[39m:\n\u001b[0;32m--> <a href='file:///home/jeremy/.local/lib/python3.9/site-packages/scipy/optimize/_minimize.py?line=686'>687</a>\u001b[0m     res \u001b[39m=\u001b[39m _minimize_cobyla(fun, x0, args, constraints, callback\u001b[39m=\u001b[39;49mcallback,\n\u001b[1;32m    <a href='file:///home/jeremy/.local/lib/python3.9/site-packages/scipy/optimize/_minimize.py?line=687'>688</a>\u001b[0m                             \u001b[39m*\u001b[39;49m\u001b[39m*\u001b[39;49moptions)\n\u001b[1;32m    <a href='file:///home/jeremy/.local/lib/python3.9/site-packages/scipy/optimize/_minimize.py?line=688'>689</a>\u001b[0m \u001b[39melif\u001b[39;00m meth \u001b[39m==\u001b[39m \u001b[39m'\u001b[39m\u001b[39mslsqp\u001b[39m\u001b[39m'\u001b[39m:\n\u001b[1;32m    <a href='file:///home/jeremy/.local/lib/python3.9/site-packages/scipy/optimize/_minimize.py?line=689'>690</a>\u001b[0m     res \u001b[39m=\u001b[39m _minimize_slsqp(fun, x0, args, jac, bounds,\n\u001b[1;32m    <a href='file:///home/jeremy/.local/lib/python3.9/site-packages/scipy/optimize/_minimize.py?line=690'>691</a>\u001b[0m                           constraints, callback\u001b[39m=\u001b[39mcallback, \u001b[39m*\u001b[39m\u001b[39m*\u001b[39moptions)\n",
      "File \u001b[0;32m~/.local/lib/python3.9/site-packages/scipy/optimize/_cobyla_py.py:34\u001b[0m, in \u001b[0;36msynchronized.<locals>.wrapper\u001b[0;34m(*args, **kwargs)\u001b[0m\n\u001b[1;32m     <a href='file:///home/jeremy/.local/lib/python3.9/site-packages/scipy/optimize/_cobyla_py.py?line=30'>31</a>\u001b[0m \u001b[39m@functools\u001b[39m\u001b[39m.\u001b[39mwraps(func)\n\u001b[1;32m     <a href='file:///home/jeremy/.local/lib/python3.9/site-packages/scipy/optimize/_cobyla_py.py?line=31'>32</a>\u001b[0m \u001b[39mdef\u001b[39;00m \u001b[39mwrapper\u001b[39m(\u001b[39m*\u001b[39margs, \u001b[39m*\u001b[39m\u001b[39m*\u001b[39mkwargs):\n\u001b[1;32m     <a href='file:///home/jeremy/.local/lib/python3.9/site-packages/scipy/optimize/_cobyla_py.py?line=32'>33</a>\u001b[0m     \u001b[39mwith\u001b[39;00m _module_lock:\n\u001b[0;32m---> <a href='file:///home/jeremy/.local/lib/python3.9/site-packages/scipy/optimize/_cobyla_py.py?line=33'>34</a>\u001b[0m         \u001b[39mreturn\u001b[39;00m func(\u001b[39m*\u001b[39;49margs, \u001b[39m*\u001b[39;49m\u001b[39m*\u001b[39;49mkwargs)\n",
      "File \u001b[0;32m~/.local/lib/python3.9/site-packages/scipy/optimize/_cobyla_py.py:273\u001b[0m, in \u001b[0;36m_minimize_cobyla\u001b[0;34m(fun, x0, args, constraints, rhobeg, tol, maxiter, disp, catol, callback, **unknown_options)\u001b[0m\n\u001b[1;32m    <a href='file:///home/jeremy/.local/lib/python3.9/site-packages/scipy/optimize/_cobyla_py.py?line=269'>270</a>\u001b[0m         callback(np\u001b[39m.\u001b[39mcopy(x))\n\u001b[1;32m    <a href='file:///home/jeremy/.local/lib/python3.9/site-packages/scipy/optimize/_cobyla_py.py?line=271'>272</a>\u001b[0m info \u001b[39m=\u001b[39m np\u001b[39m.\u001b[39mzeros(\u001b[39m4\u001b[39m, np\u001b[39m.\u001b[39mfloat64)\n\u001b[0;32m--> <a href='file:///home/jeremy/.local/lib/python3.9/site-packages/scipy/optimize/_cobyla_py.py?line=272'>273</a>\u001b[0m xopt, info \u001b[39m=\u001b[39m cobyla\u001b[39m.\u001b[39;49mminimize(calcfc, m\u001b[39m=\u001b[39;49mm, x\u001b[39m=\u001b[39;49mnp\u001b[39m.\u001b[39;49mcopy(x0), rhobeg\u001b[39m=\u001b[39;49mrhobeg,\n\u001b[1;32m    <a href='file:///home/jeremy/.local/lib/python3.9/site-packages/scipy/optimize/_cobyla_py.py?line=273'>274</a>\u001b[0m                               rhoend\u001b[39m=\u001b[39;49mrhoend, iprint\u001b[39m=\u001b[39;49miprint, maxfun\u001b[39m=\u001b[39;49mmaxfun,\n\u001b[1;32m    <a href='file:///home/jeremy/.local/lib/python3.9/site-packages/scipy/optimize/_cobyla_py.py?line=274'>275</a>\u001b[0m                               dinfo\u001b[39m=\u001b[39;49minfo, callback\u001b[39m=\u001b[39;49mwrapped_callback)\n\u001b[1;32m    <a href='file:///home/jeremy/.local/lib/python3.9/site-packages/scipy/optimize/_cobyla_py.py?line=276'>277</a>\u001b[0m \u001b[39mif\u001b[39;00m info[\u001b[39m3\u001b[39m] \u001b[39m>\u001b[39m catol:\n\u001b[1;32m    <a href='file:///home/jeremy/.local/lib/python3.9/site-packages/scipy/optimize/_cobyla_py.py?line=277'>278</a>\u001b[0m     \u001b[39m# Check constraint violation\u001b[39;00m\n\u001b[1;32m    <a href='file:///home/jeremy/.local/lib/python3.9/site-packages/scipy/optimize/_cobyla_py.py?line=278'>279</a>\u001b[0m     info[\u001b[39m0\u001b[39m] \u001b[39m=\u001b[39m \u001b[39m4\u001b[39m\n",
      "File \u001b[0;32m~/.local/lib/python3.9/site-packages/scipy/optimize/_cobyla_py.py:261\u001b[0m, in \u001b[0;36m_minimize_cobyla.<locals>.calcfc\u001b[0;34m(x, con)\u001b[0m\n\u001b[1;32m    <a href='file:///home/jeremy/.local/lib/python3.9/site-packages/scipy/optimize/_cobyla_py.py?line=259'>260</a>\u001b[0m \u001b[39mdef\u001b[39;00m \u001b[39mcalcfc\u001b[39m(x, con):\n\u001b[0;32m--> <a href='file:///home/jeremy/.local/lib/python3.9/site-packages/scipy/optimize/_cobyla_py.py?line=260'>261</a>\u001b[0m     f \u001b[39m=\u001b[39m fun(np\u001b[39m.\u001b[39;49mcopy(x), \u001b[39m*\u001b[39;49margs)\n\u001b[1;32m    <a href='file:///home/jeremy/.local/lib/python3.9/site-packages/scipy/optimize/_cobyla_py.py?line=261'>262</a>\u001b[0m     i \u001b[39m=\u001b[39m \u001b[39m0\u001b[39m\n\u001b[1;32m    <a href='file:///home/jeremy/.local/lib/python3.9/site-packages/scipy/optimize/_cobyla_py.py?line=262'>263</a>\u001b[0m     \u001b[39mfor\u001b[39;00m size, c \u001b[39min\u001b[39;00m izip(cons_lengths, constraints):\n",
      "\u001b[1;32m/home/jeremy/Documents/Uni/2022/s1/comp2550/Assignment 3/ass3/comp2550-assignment-3/maxcut_qwoa copy.ipynb Cell 9'\u001b[0m in \u001b[0;36mrun_simulation.<locals>.execute_circ\u001b[0;34m(theta)\u001b[0m\n\u001b[1;32m     <a href='vscode-notebook-cell:/home/jeremy/Documents/Uni/2022/s1/comp2550/Assignment%203/ass3/comp2550-assignment-3/maxcut_qwoa%20copy.ipynb#ch0000008?line=38'>39</a>\u001b[0m parameters[\u001b[39m\"\u001b[39m\u001b[39mparams\u001b[39m\u001b[39m\"\u001b[39m] \u001b[39m=\u001b[39m theta\n\u001b[1;32m     <a href='vscode-notebook-cell:/home/jeremy/Documents/Uni/2022/s1/comp2550/Assignment%203/ass3/comp2550-assignment-3/maxcut_qwoa%20copy.ipynb#ch0000008?line=39'>40</a>\u001b[0m qc \u001b[39m=\u001b[39m create_circuit(\u001b[39m*\u001b[39m\u001b[39m*\u001b[39mparameters)\n\u001b[0;32m---> <a href='vscode-notebook-cell:/home/jeremy/Documents/Uni/2022/s1/comp2550/Assignment%203/ass3/comp2550-assignment-3/maxcut_qwoa%20copy.ipynb#ch0000008?line=40'>41</a>\u001b[0m test \u001b[39m=\u001b[39m transpile(qc, backend)\n\u001b[1;32m     <a href='vscode-notebook-cell:/home/jeremy/Documents/Uni/2022/s1/comp2550/Assignment%203/ass3/comp2550-assignment-3/maxcut_qwoa%20copy.ipynb#ch0000008?line=41'>42</a>\u001b[0m qobj \u001b[39m=\u001b[39m assemble(test)\n\u001b[1;32m     <a href='vscode-notebook-cell:/home/jeremy/Documents/Uni/2022/s1/comp2550/Assignment%203/ass3/comp2550-assignment-3/maxcut_qwoa%20copy.ipynb#ch0000008?line=42'>43</a>\u001b[0m counts \u001b[39m=\u001b[39m backend\u001b[39m.\u001b[39mrun(qobj, seed_simulator\u001b[39m=\u001b[39m\u001b[39m10\u001b[39m, nshots\u001b[39m=\u001b[39m\u001b[39m512\u001b[39m)\u001b[39m.\u001b[39mresult()\u001b[39m.\u001b[39mget_counts()\n",
      "File \u001b[0;32m~/.local/lib/python3.9/site-packages/qiskit/compiler/transpiler.py:304\u001b[0m, in \u001b[0;36mtranspile\u001b[0;34m(circuits, backend, basis_gates, inst_map, coupling_map, backend_properties, initial_layout, layout_method, routing_method, translation_method, scheduling_method, instruction_durations, dt, approximation_degree, timing_constraints, seed_transpiler, optimization_level, callback, output_name, unitary_synthesis_method, unitary_synthesis_plugin_config, target)\u001b[0m\n\u001b[1;32m    <a href='file:///home/jeremy/.local/lib/python3.9/site-packages/qiskit/compiler/transpiler.py?line=300'>301</a>\u001b[0m _check_circuits_coupling_map(circuits, transpile_args, backend)\n\u001b[1;32m    <a href='file:///home/jeremy/.local/lib/python3.9/site-packages/qiskit/compiler/transpiler.py?line=302'>303</a>\u001b[0m \u001b[39m# Transpile circuits in parallel\u001b[39;00m\n\u001b[0;32m--> <a href='file:///home/jeremy/.local/lib/python3.9/site-packages/qiskit/compiler/transpiler.py?line=303'>304</a>\u001b[0m circuits \u001b[39m=\u001b[39m parallel_map(_transpile_circuit, \u001b[39mlist\u001b[39;49m(\u001b[39mzip\u001b[39;49m(circuits, transpile_args)))\n\u001b[1;32m    <a href='file:///home/jeremy/.local/lib/python3.9/site-packages/qiskit/compiler/transpiler.py?line=305'>306</a>\u001b[0m end_time \u001b[39m=\u001b[39m time()\n\u001b[1;32m    <a href='file:///home/jeremy/.local/lib/python3.9/site-packages/qiskit/compiler/transpiler.py?line=306'>307</a>\u001b[0m _log_transpile_time(start_time, end_time)\n",
      "File \u001b[0;32m~/.local/lib/python3.9/site-packages/qiskit/tools/parallel.py:129\u001b[0m, in \u001b[0;36mparallel_map\u001b[0;34m(task, values, task_args, task_kwargs, num_processes)\u001b[0m\n\u001b[1;32m    <a href='file:///home/jeremy/.local/lib/python3.9/site-packages/qiskit/tools/parallel.py?line=126'>127</a>\u001b[0m     \u001b[39mreturn\u001b[39;00m []\n\u001b[1;32m    <a href='file:///home/jeremy/.local/lib/python3.9/site-packages/qiskit/tools/parallel.py?line=127'>128</a>\u001b[0m \u001b[39mif\u001b[39;00m \u001b[39mlen\u001b[39m(values) \u001b[39m==\u001b[39m \u001b[39m1\u001b[39m:\n\u001b[0;32m--> <a href='file:///home/jeremy/.local/lib/python3.9/site-packages/qiskit/tools/parallel.py?line=128'>129</a>\u001b[0m     \u001b[39mreturn\u001b[39;00m [task(values[\u001b[39m0\u001b[39;49m], \u001b[39m*\u001b[39;49mtask_args, \u001b[39m*\u001b[39;49m\u001b[39m*\u001b[39;49mtask_kwargs)]\n\u001b[1;32m    <a href='file:///home/jeremy/.local/lib/python3.9/site-packages/qiskit/tools/parallel.py?line=130'>131</a>\u001b[0m Publisher()\u001b[39m.\u001b[39mpublish(\u001b[39m\"\u001b[39m\u001b[39mterra.parallel.start\u001b[39m\u001b[39m\"\u001b[39m, \u001b[39mlen\u001b[39m(values))\n\u001b[1;32m    <a href='file:///home/jeremy/.local/lib/python3.9/site-packages/qiskit/tools/parallel.py?line=131'>132</a>\u001b[0m nfinished \u001b[39m=\u001b[39m [\u001b[39m0\u001b[39m]\n",
      "File \u001b[0;32m~/.local/lib/python3.9/site-packages/qiskit/compiler/transpiler.py:389\u001b[0m, in \u001b[0;36m_transpile_circuit\u001b[0;34m(circuit_config_tuple)\u001b[0m\n\u001b[1;32m    <a href='file:///home/jeremy/.local/lib/python3.9/site-packages/qiskit/compiler/transpiler.py?line=385'>386</a>\u001b[0m \u001b[39melse\u001b[39;00m:\n\u001b[1;32m    <a href='file:///home/jeremy/.local/lib/python3.9/site-packages/qiskit/compiler/transpiler.py?line=386'>387</a>\u001b[0m     \u001b[39mraise\u001b[39;00m TranspilerError(\u001b[39m\"\u001b[39m\u001b[39moptimization_level can range from 0 to 3.\u001b[39m\u001b[39m\"\u001b[39m)\n\u001b[0;32m--> <a href='file:///home/jeremy/.local/lib/python3.9/site-packages/qiskit/compiler/transpiler.py?line=388'>389</a>\u001b[0m result \u001b[39m=\u001b[39m pass_manager\u001b[39m.\u001b[39;49mrun(\n\u001b[1;32m    <a href='file:///home/jeremy/.local/lib/python3.9/site-packages/qiskit/compiler/transpiler.py?line=389'>390</a>\u001b[0m     circuit, callback\u001b[39m=\u001b[39;49mtranspile_config[\u001b[39m\"\u001b[39;49m\u001b[39mcallback\u001b[39;49m\u001b[39m\"\u001b[39;49m], output_name\u001b[39m=\u001b[39;49mtranspile_config[\u001b[39m\"\u001b[39;49m\u001b[39moutput_name\u001b[39;49m\u001b[39m\"\u001b[39;49m]\n\u001b[1;32m    <a href='file:///home/jeremy/.local/lib/python3.9/site-packages/qiskit/compiler/transpiler.py?line=390'>391</a>\u001b[0m )\n\u001b[1;32m    <a href='file:///home/jeremy/.local/lib/python3.9/site-packages/qiskit/compiler/transpiler.py?line=392'>393</a>\u001b[0m \u001b[39mif\u001b[39;00m transpile_config[\u001b[39m\"\u001b[39m\u001b[39mfaulty_qubits_map\u001b[39m\u001b[39m\"\u001b[39m]:\n\u001b[1;32m    <a href='file:///home/jeremy/.local/lib/python3.9/site-packages/qiskit/compiler/transpiler.py?line=393'>394</a>\u001b[0m     \u001b[39mreturn\u001b[39;00m _remap_circuit_faulty_backend(\n\u001b[1;32m    <a href='file:///home/jeremy/.local/lib/python3.9/site-packages/qiskit/compiler/transpiler.py?line=394'>395</a>\u001b[0m         result,\n\u001b[1;32m    <a href='file:///home/jeremy/.local/lib/python3.9/site-packages/qiskit/compiler/transpiler.py?line=395'>396</a>\u001b[0m         transpile_config[\u001b[39m\"\u001b[39m\u001b[39mbackend_num_qubits\u001b[39m\u001b[39m\"\u001b[39m],\n\u001b[1;32m    <a href='file:///home/jeremy/.local/lib/python3.9/site-packages/qiskit/compiler/transpiler.py?line=396'>397</a>\u001b[0m         pass_manager_config\u001b[39m.\u001b[39mbackend_properties,\n\u001b[1;32m    <a href='file:///home/jeremy/.local/lib/python3.9/site-packages/qiskit/compiler/transpiler.py?line=397'>398</a>\u001b[0m         transpile_config[\u001b[39m\"\u001b[39m\u001b[39mfaulty_qubits_map\u001b[39m\u001b[39m\"\u001b[39m],\n\u001b[1;32m    <a href='file:///home/jeremy/.local/lib/python3.9/site-packages/qiskit/compiler/transpiler.py?line=398'>399</a>\u001b[0m     )\n",
      "File \u001b[0;32m~/.local/lib/python3.9/site-packages/qiskit/transpiler/passmanager.py:222\u001b[0m, in \u001b[0;36mPassManager.run\u001b[0;34m(self, circuits, output_name, callback)\u001b[0m\n\u001b[1;32m    <a href='file:///home/jeremy/.local/lib/python3.9/site-packages/qiskit/transpiler/passmanager.py?line=219'>220</a>\u001b[0m     \u001b[39mreturn\u001b[39;00m circuits\n\u001b[1;32m    <a href='file:///home/jeremy/.local/lib/python3.9/site-packages/qiskit/transpiler/passmanager.py?line=220'>221</a>\u001b[0m \u001b[39mif\u001b[39;00m \u001b[39misinstance\u001b[39m(circuits, QuantumCircuit):\n\u001b[0;32m--> <a href='file:///home/jeremy/.local/lib/python3.9/site-packages/qiskit/transpiler/passmanager.py?line=221'>222</a>\u001b[0m     \u001b[39mreturn\u001b[39;00m \u001b[39mself\u001b[39;49m\u001b[39m.\u001b[39;49m_run_single_circuit(circuits, output_name, callback)\n\u001b[1;32m    <a href='file:///home/jeremy/.local/lib/python3.9/site-packages/qiskit/transpiler/passmanager.py?line=222'>223</a>\u001b[0m \u001b[39mif\u001b[39;00m \u001b[39mlen\u001b[39m(circuits) \u001b[39m==\u001b[39m \u001b[39m1\u001b[39m:\n\u001b[1;32m    <a href='file:///home/jeremy/.local/lib/python3.9/site-packages/qiskit/transpiler/passmanager.py?line=223'>224</a>\u001b[0m     \u001b[39mreturn\u001b[39;00m \u001b[39mself\u001b[39m\u001b[39m.\u001b[39m_run_single_circuit(circuits[\u001b[39m0\u001b[39m], output_name, callback)\n",
      "File \u001b[0;32m~/.local/lib/python3.9/site-packages/qiskit/transpiler/passmanager.py:277\u001b[0m, in \u001b[0;36mPassManager._run_single_circuit\u001b[0;34m(self, circuit, output_name, callback)\u001b[0m\n\u001b[1;32m    <a href='file:///home/jeremy/.local/lib/python3.9/site-packages/qiskit/transpiler/passmanager.py?line=264'>265</a>\u001b[0m \u001b[39m\"\"\"Run all the passes on a ``circuit``.\u001b[39;00m\n\u001b[1;32m    <a href='file:///home/jeremy/.local/lib/python3.9/site-packages/qiskit/transpiler/passmanager.py?line=265'>266</a>\u001b[0m \n\u001b[1;32m    <a href='file:///home/jeremy/.local/lib/python3.9/site-packages/qiskit/transpiler/passmanager.py?line=266'>267</a>\u001b[0m \u001b[39mArgs:\u001b[39;00m\n\u001b[0;32m   (...)\u001b[0m\n\u001b[1;32m    <a href='file:///home/jeremy/.local/lib/python3.9/site-packages/qiskit/transpiler/passmanager.py?line=273'>274</a>\u001b[0m \u001b[39m    The transformed circuit.\u001b[39;00m\n\u001b[1;32m    <a href='file:///home/jeremy/.local/lib/python3.9/site-packages/qiskit/transpiler/passmanager.py?line=274'>275</a>\u001b[0m \u001b[39m\"\"\"\u001b[39;00m\n\u001b[1;32m    <a href='file:///home/jeremy/.local/lib/python3.9/site-packages/qiskit/transpiler/passmanager.py?line=275'>276</a>\u001b[0m running_passmanager \u001b[39m=\u001b[39m \u001b[39mself\u001b[39m\u001b[39m.\u001b[39m_create_running_passmanager()\n\u001b[0;32m--> <a href='file:///home/jeremy/.local/lib/python3.9/site-packages/qiskit/transpiler/passmanager.py?line=276'>277</a>\u001b[0m result \u001b[39m=\u001b[39m running_passmanager\u001b[39m.\u001b[39;49mrun(circuit, output_name\u001b[39m=\u001b[39;49moutput_name, callback\u001b[39m=\u001b[39;49mcallback)\n\u001b[1;32m    <a href='file:///home/jeremy/.local/lib/python3.9/site-packages/qiskit/transpiler/passmanager.py?line=277'>278</a>\u001b[0m \u001b[39mself\u001b[39m\u001b[39m.\u001b[39mproperty_set \u001b[39m=\u001b[39m running_passmanager\u001b[39m.\u001b[39mproperty_set\n\u001b[1;32m    <a href='file:///home/jeremy/.local/lib/python3.9/site-packages/qiskit/transpiler/passmanager.py?line=278'>279</a>\u001b[0m \u001b[39mreturn\u001b[39;00m result\n",
      "File \u001b[0;32m~/.local/lib/python3.9/site-packages/qiskit/transpiler/runningpassmanager.py:116\u001b[0m, in \u001b[0;36mRunningPassManager.run\u001b[0;34m(self, circuit, output_name, callback)\u001b[0m\n\u001b[1;32m    <a href='file:///home/jeremy/.local/lib/python3.9/site-packages/qiskit/transpiler/runningpassmanager.py?line=104'>105</a>\u001b[0m \u001b[39m\"\"\"Run all the passes on a QuantumCircuit\u001b[39;00m\n\u001b[1;32m    <a href='file:///home/jeremy/.local/lib/python3.9/site-packages/qiskit/transpiler/runningpassmanager.py?line=105'>106</a>\u001b[0m \n\u001b[1;32m    <a href='file:///home/jeremy/.local/lib/python3.9/site-packages/qiskit/transpiler/runningpassmanager.py?line=106'>107</a>\u001b[0m \u001b[39mArgs:\u001b[39;00m\n\u001b[0;32m   (...)\u001b[0m\n\u001b[1;32m    <a href='file:///home/jeremy/.local/lib/python3.9/site-packages/qiskit/transpiler/runningpassmanager.py?line=112'>113</a>\u001b[0m \u001b[39m    QuantumCircuit: Transformed circuit.\u001b[39;00m\n\u001b[1;32m    <a href='file:///home/jeremy/.local/lib/python3.9/site-packages/qiskit/transpiler/runningpassmanager.py?line=113'>114</a>\u001b[0m \u001b[39m\"\"\"\u001b[39;00m\n\u001b[1;32m    <a href='file:///home/jeremy/.local/lib/python3.9/site-packages/qiskit/transpiler/runningpassmanager.py?line=114'>115</a>\u001b[0m name \u001b[39m=\u001b[39m circuit\u001b[39m.\u001b[39mname\n\u001b[0;32m--> <a href='file:///home/jeremy/.local/lib/python3.9/site-packages/qiskit/transpiler/runningpassmanager.py?line=115'>116</a>\u001b[0m dag \u001b[39m=\u001b[39m circuit_to_dag(circuit)\n\u001b[1;32m    <a href='file:///home/jeremy/.local/lib/python3.9/site-packages/qiskit/transpiler/runningpassmanager.py?line=116'>117</a>\u001b[0m \u001b[39mdel\u001b[39;00m circuit\n\u001b[1;32m    <a href='file:///home/jeremy/.local/lib/python3.9/site-packages/qiskit/transpiler/runningpassmanager.py?line=118'>119</a>\u001b[0m \u001b[39mif\u001b[39;00m callback:\n",
      "File \u001b[0;32m~/.local/lib/python3.9/site-packages/qiskit/converters/circuit_to_dag.py:62\u001b[0m, in \u001b[0;36mcircuit_to_dag\u001b[0;34m(circuit)\u001b[0m\n\u001b[1;32m     <a href='file:///home/jeremy/.local/lib/python3.9/site-packages/qiskit/converters/circuit_to_dag.py?line=58'>59</a>\u001b[0m     dagcircuit\u001b[39m.\u001b[39madd_creg(register)\n\u001b[1;32m     <a href='file:///home/jeremy/.local/lib/python3.9/site-packages/qiskit/converters/circuit_to_dag.py?line=60'>61</a>\u001b[0m \u001b[39mfor\u001b[39;00m instruction, qargs, cargs \u001b[39min\u001b[39;00m circuit\u001b[39m.\u001b[39mdata:\n\u001b[0;32m---> <a href='file:///home/jeremy/.local/lib/python3.9/site-packages/qiskit/converters/circuit_to_dag.py?line=61'>62</a>\u001b[0m     dagcircuit\u001b[39m.\u001b[39mapply_operation_back(instruction\u001b[39m.\u001b[39;49mcopy(), qargs, cargs)\n\u001b[1;32m     <a href='file:///home/jeremy/.local/lib/python3.9/site-packages/qiskit/converters/circuit_to_dag.py?line=63'>64</a>\u001b[0m dagcircuit\u001b[39m.\u001b[39mduration \u001b[39m=\u001b[39m circuit\u001b[39m.\u001b[39mduration\n\u001b[1;32m     <a href='file:///home/jeremy/.local/lib/python3.9/site-packages/qiskit/converters/circuit_to_dag.py?line=64'>65</a>\u001b[0m dagcircuit\u001b[39m.\u001b[39munit \u001b[39m=\u001b[39m circuit\u001b[39m.\u001b[39munit\n",
      "File \u001b[0;32m~/.local/lib/python3.9/site-packages/qiskit/circuit/instruction.py:424\u001b[0m, in \u001b[0;36mInstruction.copy\u001b[0;34m(self, name)\u001b[0m\n\u001b[1;32m    <a href='file:///home/jeremy/.local/lib/python3.9/site-packages/qiskit/circuit/instruction.py?line=411'>412</a>\u001b[0m \u001b[39mdef\u001b[39;00m \u001b[39mcopy\u001b[39m(\u001b[39mself\u001b[39m, name\u001b[39m=\u001b[39m\u001b[39mNone\u001b[39;00m):\n\u001b[1;32m    <a href='file:///home/jeremy/.local/lib/python3.9/site-packages/qiskit/circuit/instruction.py?line=412'>413</a>\u001b[0m     \u001b[39m\"\"\"\u001b[39;00m\n\u001b[1;32m    <a href='file:///home/jeremy/.local/lib/python3.9/site-packages/qiskit/circuit/instruction.py?line=413'>414</a>\u001b[0m \u001b[39m    Copy of the instruction.\u001b[39;00m\n\u001b[1;32m    <a href='file:///home/jeremy/.local/lib/python3.9/site-packages/qiskit/circuit/instruction.py?line=414'>415</a>\u001b[0m \n\u001b[0;32m   (...)\u001b[0m\n\u001b[1;32m    <a href='file:///home/jeremy/.local/lib/python3.9/site-packages/qiskit/circuit/instruction.py?line=421'>422</a>\u001b[0m \u001b[39m        updated if it was provided\u001b[39;00m\n\u001b[1;32m    <a href='file:///home/jeremy/.local/lib/python3.9/site-packages/qiskit/circuit/instruction.py?line=422'>423</a>\u001b[0m \u001b[39m    \"\"\"\u001b[39;00m\n\u001b[0;32m--> <a href='file:///home/jeremy/.local/lib/python3.9/site-packages/qiskit/circuit/instruction.py?line=423'>424</a>\u001b[0m     cpy \u001b[39m=\u001b[39m \u001b[39mself\u001b[39;49m\u001b[39m.\u001b[39;49m__deepcopy__()\n\u001b[1;32m    <a href='file:///home/jeremy/.local/lib/python3.9/site-packages/qiskit/circuit/instruction.py?line=425'>426</a>\u001b[0m     \u001b[39mif\u001b[39;00m name:\n\u001b[1;32m    <a href='file:///home/jeremy/.local/lib/python3.9/site-packages/qiskit/circuit/instruction.py?line=426'>427</a>\u001b[0m         cpy\u001b[39m.\u001b[39mname \u001b[39m=\u001b[39m name\n",
      "File \u001b[0;32m~/.local/lib/python3.9/site-packages/qiskit/circuit/instruction.py:434\u001b[0m, in \u001b[0;36mInstruction.__deepcopy__\u001b[0;34m(self, _memo)\u001b[0m\n\u001b[1;32m    <a href='file:///home/jeremy/.local/lib/python3.9/site-packages/qiskit/circuit/instruction.py?line=431'>432</a>\u001b[0m cpy\u001b[39m.\u001b[39m_params \u001b[39m=\u001b[39m copy\u001b[39m.\u001b[39mcopy(\u001b[39mself\u001b[39m\u001b[39m.\u001b[39m_params)\n\u001b[1;32m    <a href='file:///home/jeremy/.local/lib/python3.9/site-packages/qiskit/circuit/instruction.py?line=432'>433</a>\u001b[0m \u001b[39mif\u001b[39;00m \u001b[39mself\u001b[39m\u001b[39m.\u001b[39m_definition:\n\u001b[0;32m--> <a href='file:///home/jeremy/.local/lib/python3.9/site-packages/qiskit/circuit/instruction.py?line=433'>434</a>\u001b[0m     cpy\u001b[39m.\u001b[39m_definition \u001b[39m=\u001b[39m copy\u001b[39m.\u001b[39;49mdeepcopy(\u001b[39mself\u001b[39;49m\u001b[39m.\u001b[39;49m_definition, _memo)\n\u001b[1;32m    <a href='file:///home/jeremy/.local/lib/python3.9/site-packages/qiskit/circuit/instruction.py?line=434'>435</a>\u001b[0m \u001b[39mreturn\u001b[39;00m cpy\n",
      "File \u001b[0;32m/usr/lib/python3.9/copy.py:172\u001b[0m, in \u001b[0;36mdeepcopy\u001b[0;34m(x, memo, _nil)\u001b[0m\n\u001b[1;32m    <a href='file:///usr/lib/python3.9/copy.py?line=169'>170</a>\u001b[0m                 y \u001b[39m=\u001b[39m x\n\u001b[1;32m    <a href='file:///usr/lib/python3.9/copy.py?line=170'>171</a>\u001b[0m             \u001b[39melse\u001b[39;00m:\n\u001b[0;32m--> <a href='file:///usr/lib/python3.9/copy.py?line=171'>172</a>\u001b[0m                 y \u001b[39m=\u001b[39m _reconstruct(x, memo, \u001b[39m*\u001b[39;49mrv)\n\u001b[1;32m    <a href='file:///usr/lib/python3.9/copy.py?line=173'>174</a>\u001b[0m \u001b[39m# If is its own copy, don't memoize.\u001b[39;00m\n\u001b[1;32m    <a href='file:///usr/lib/python3.9/copy.py?line=174'>175</a>\u001b[0m \u001b[39mif\u001b[39;00m y \u001b[39mis\u001b[39;00m \u001b[39mnot\u001b[39;00m x:\n",
      "File \u001b[0;32m/usr/lib/python3.9/copy.py:270\u001b[0m, in \u001b[0;36m_reconstruct\u001b[0;34m(x, memo, func, args, state, listiter, dictiter, deepcopy)\u001b[0m\n\u001b[1;32m    <a href='file:///usr/lib/python3.9/copy.py?line=267'>268</a>\u001b[0m \u001b[39mif\u001b[39;00m state \u001b[39mis\u001b[39;00m \u001b[39mnot\u001b[39;00m \u001b[39mNone\u001b[39;00m:\n\u001b[1;32m    <a href='file:///usr/lib/python3.9/copy.py?line=268'>269</a>\u001b[0m     \u001b[39mif\u001b[39;00m deep:\n\u001b[0;32m--> <a href='file:///usr/lib/python3.9/copy.py?line=269'>270</a>\u001b[0m         state \u001b[39m=\u001b[39m deepcopy(state, memo)\n\u001b[1;32m    <a href='file:///usr/lib/python3.9/copy.py?line=270'>271</a>\u001b[0m     \u001b[39mif\u001b[39;00m \u001b[39mhasattr\u001b[39m(y, \u001b[39m'\u001b[39m\u001b[39m__setstate__\u001b[39m\u001b[39m'\u001b[39m):\n\u001b[1;32m    <a href='file:///usr/lib/python3.9/copy.py?line=271'>272</a>\u001b[0m         y\u001b[39m.\u001b[39m__setstate__(state)\n",
      "File \u001b[0;32m/usr/lib/python3.9/copy.py:146\u001b[0m, in \u001b[0;36mdeepcopy\u001b[0;34m(x, memo, _nil)\u001b[0m\n\u001b[1;32m    <a href='file:///usr/lib/python3.9/copy.py?line=143'>144</a>\u001b[0m copier \u001b[39m=\u001b[39m _deepcopy_dispatch\u001b[39m.\u001b[39mget(\u001b[39mcls\u001b[39m)\n\u001b[1;32m    <a href='file:///usr/lib/python3.9/copy.py?line=144'>145</a>\u001b[0m \u001b[39mif\u001b[39;00m copier \u001b[39mis\u001b[39;00m \u001b[39mnot\u001b[39;00m \u001b[39mNone\u001b[39;00m:\n\u001b[0;32m--> <a href='file:///usr/lib/python3.9/copy.py?line=145'>146</a>\u001b[0m     y \u001b[39m=\u001b[39m copier(x, memo)\n\u001b[1;32m    <a href='file:///usr/lib/python3.9/copy.py?line=146'>147</a>\u001b[0m \u001b[39melse\u001b[39;00m:\n\u001b[1;32m    <a href='file:///usr/lib/python3.9/copy.py?line=147'>148</a>\u001b[0m     \u001b[39mif\u001b[39;00m \u001b[39missubclass\u001b[39m(\u001b[39mcls\u001b[39m, \u001b[39mtype\u001b[39m):\n",
      "File \u001b[0;32m/usr/lib/python3.9/copy.py:230\u001b[0m, in \u001b[0;36m_deepcopy_dict\u001b[0;34m(x, memo, deepcopy)\u001b[0m\n\u001b[1;32m    <a href='file:///usr/lib/python3.9/copy.py?line=227'>228</a>\u001b[0m memo[\u001b[39mid\u001b[39m(x)] \u001b[39m=\u001b[39m y\n\u001b[1;32m    <a href='file:///usr/lib/python3.9/copy.py?line=228'>229</a>\u001b[0m \u001b[39mfor\u001b[39;00m key, value \u001b[39min\u001b[39;00m x\u001b[39m.\u001b[39mitems():\n\u001b[0;32m--> <a href='file:///usr/lib/python3.9/copy.py?line=229'>230</a>\u001b[0m     y[deepcopy(key, memo)] \u001b[39m=\u001b[39m deepcopy(value, memo)\n\u001b[1;32m    <a href='file:///usr/lib/python3.9/copy.py?line=230'>231</a>\u001b[0m \u001b[39mreturn\u001b[39;00m y\n",
      "File \u001b[0;32m/usr/lib/python3.9/copy.py:146\u001b[0m, in \u001b[0;36mdeepcopy\u001b[0;34m(x, memo, _nil)\u001b[0m\n\u001b[1;32m    <a href='file:///usr/lib/python3.9/copy.py?line=143'>144</a>\u001b[0m copier \u001b[39m=\u001b[39m _deepcopy_dispatch\u001b[39m.\u001b[39mget(\u001b[39mcls\u001b[39m)\n\u001b[1;32m    <a href='file:///usr/lib/python3.9/copy.py?line=144'>145</a>\u001b[0m \u001b[39mif\u001b[39;00m copier \u001b[39mis\u001b[39;00m \u001b[39mnot\u001b[39;00m \u001b[39mNone\u001b[39;00m:\n\u001b[0;32m--> <a href='file:///usr/lib/python3.9/copy.py?line=145'>146</a>\u001b[0m     y \u001b[39m=\u001b[39m copier(x, memo)\n\u001b[1;32m    <a href='file:///usr/lib/python3.9/copy.py?line=146'>147</a>\u001b[0m \u001b[39melse\u001b[39;00m:\n\u001b[1;32m    <a href='file:///usr/lib/python3.9/copy.py?line=147'>148</a>\u001b[0m     \u001b[39mif\u001b[39;00m \u001b[39missubclass\u001b[39m(\u001b[39mcls\u001b[39m, \u001b[39mtype\u001b[39m):\n",
      "File \u001b[0;32m/usr/lib/python3.9/copy.py:230\u001b[0m, in \u001b[0;36m_deepcopy_dict\u001b[0;34m(x, memo, deepcopy)\u001b[0m\n\u001b[1;32m    <a href='file:///usr/lib/python3.9/copy.py?line=227'>228</a>\u001b[0m memo[\u001b[39mid\u001b[39m(x)] \u001b[39m=\u001b[39m y\n\u001b[1;32m    <a href='file:///usr/lib/python3.9/copy.py?line=228'>229</a>\u001b[0m \u001b[39mfor\u001b[39;00m key, value \u001b[39min\u001b[39;00m x\u001b[39m.\u001b[39mitems():\n\u001b[0;32m--> <a href='file:///usr/lib/python3.9/copy.py?line=229'>230</a>\u001b[0m     y[deepcopy(key, memo)] \u001b[39m=\u001b[39m deepcopy(value, memo)\n\u001b[1;32m    <a href='file:///usr/lib/python3.9/copy.py?line=230'>231</a>\u001b[0m \u001b[39mreturn\u001b[39;00m y\n",
      "File \u001b[0;32m/usr/lib/python3.9/copy.py:172\u001b[0m, in \u001b[0;36mdeepcopy\u001b[0;34m(x, memo, _nil)\u001b[0m\n\u001b[1;32m    <a href='file:///usr/lib/python3.9/copy.py?line=169'>170</a>\u001b[0m                 y \u001b[39m=\u001b[39m x\n\u001b[1;32m    <a href='file:///usr/lib/python3.9/copy.py?line=170'>171</a>\u001b[0m             \u001b[39melse\u001b[39;00m:\n\u001b[0;32m--> <a href='file:///usr/lib/python3.9/copy.py?line=171'>172</a>\u001b[0m                 y \u001b[39m=\u001b[39m _reconstruct(x, memo, \u001b[39m*\u001b[39;49mrv)\n\u001b[1;32m    <a href='file:///usr/lib/python3.9/copy.py?line=173'>174</a>\u001b[0m \u001b[39m# If is its own copy, don't memoize.\u001b[39;00m\n\u001b[1;32m    <a href='file:///usr/lib/python3.9/copy.py?line=174'>175</a>\u001b[0m \u001b[39mif\u001b[39;00m y \u001b[39mis\u001b[39;00m \u001b[39mnot\u001b[39;00m x:\n",
      "File \u001b[0;32m/usr/lib/python3.9/copy.py:264\u001b[0m, in \u001b[0;36m_reconstruct\u001b[0;34m(x, memo, func, args, state, listiter, dictiter, deepcopy)\u001b[0m\n\u001b[1;32m    <a href='file:///usr/lib/python3.9/copy.py?line=261'>262</a>\u001b[0m \u001b[39mif\u001b[39;00m deep \u001b[39mand\u001b[39;00m args:\n\u001b[1;32m    <a href='file:///usr/lib/python3.9/copy.py?line=262'>263</a>\u001b[0m     args \u001b[39m=\u001b[39m (deepcopy(arg, memo) \u001b[39mfor\u001b[39;00m arg \u001b[39min\u001b[39;00m args)\n\u001b[0;32m--> <a href='file:///usr/lib/python3.9/copy.py?line=263'>264</a>\u001b[0m y \u001b[39m=\u001b[39m func(\u001b[39m*\u001b[39;49margs)\n\u001b[1;32m    <a href='file:///usr/lib/python3.9/copy.py?line=264'>265</a>\u001b[0m \u001b[39mif\u001b[39;00m deep:\n\u001b[1;32m    <a href='file:///usr/lib/python3.9/copy.py?line=265'>266</a>\u001b[0m     memo[\u001b[39mid\u001b[39m(x)] \u001b[39m=\u001b[39m y\n",
      "File \u001b[0;32m/usr/lib/python3.9/copyreg.py:95\u001b[0m, in \u001b[0;36m__newobj__\u001b[0;34m(cls, *args)\u001b[0m\n\u001b[1;32m     <a href='file:///usr/lib/python3.9/copyreg.py?line=93'>94</a>\u001b[0m \u001b[39mdef\u001b[39;00m \u001b[39m__newobj__\u001b[39m(\u001b[39mcls\u001b[39m, \u001b[39m*\u001b[39margs):\n\u001b[0;32m---> <a href='file:///usr/lib/python3.9/copyreg.py?line=94'>95</a>\u001b[0m     \u001b[39mreturn\u001b[39;00m \u001b[39mcls\u001b[39;49m\u001b[39m.\u001b[39;49m\u001b[39m__new__\u001b[39;49m(\u001b[39mcls\u001b[39;49m, \u001b[39m*\u001b[39;49margs)\n",
      "File \u001b[0;32m<string>:1\u001b[0m, in \u001b[0;36m<lambda>\u001b[0;34m(_cls, index, registers)\u001b[0m\n",
      "\u001b[0;31mKeyboardInterrupt\u001b[0m: "
     ]
    }
   ],
   "source": [
    "p=2\n",
    "\n",
    "successes = 0\n",
    "total = 0\n",
    "\n",
    "for x in range(20):\n",
    "    graph = generate3RegGraph(6) #6 nodes\n",
    "    connectivityList = [[1,10]] * p\n",
    "    initialParametersList = [1]*2*p\n",
    "    successes+=run_simulation(initialParametersList, graph, connectivityList, p)\n",
    "    total+=1\n",
    "    print(f\"Successes: {successes}. total: {total}\")\n",
    "    print(total)\n",
    "\n",
    "print()\n",
    "print(\"FINAL\")\n",
    "print(f\"Successes: {successes}. total: {total}\")\n",
    "print(successes/total)\n",
    "\n",
    "# graph = generate3RegGraph(6) #6 nodes\n",
    "# connectivityList = [[1,10]] * p\n",
    "# initialParametersList = [1]*2*p\n",
    "# parameters = qwoaParameters(initialParametersList, graph, connectivityList, p, False)\n",
    "# #circuit = create_circuit(**parameters)\n",
    "# #display(circuit.draw('mpl'))\n",
    "# run_simulation(initialParametersList, graph, connectivityList, p)"
   ]
  },
  {
   "cell_type": "code",
   "execution_count": 13,
   "metadata": {},
   "outputs": [],
   "source": [
    "# def countour_plot (cost_function, resolution=32):\n",
    "#     grid_values = np.linspace(0, np.pi * 2, num=resolution)\n",
    "#     cost_values = np.zeros((resolution, resolution))\n",
    "#     row = column = 0\n",
    "#     for gamma in grid_values:\n",
    "#         for time in grid_values:\n",
    "#             cost_values[row][column] = cost_function([gamma, time])\n",
    "#             column += 1\n",
    "#         row += 1\n",
    "#         column = 0\n",
    "#     plt.figure(figsize=(15,15)) \n",
    "#     plt.contourf(grid_values, grid_values, cost_values)\n",
    "#     plt.axis('scaled')\n",
    "#     plt.colorbar()\n",
    "#     plt.show()"
   ]
  },
  {
   "cell_type": "code",
   "execution_count": 14,
   "metadata": {},
   "outputs": [],
   "source": [
    "# import maxcut_qaoa as qaoa\n",
    "# countour_plot(qaoa.get_expectation(G), 52)"
   ]
  },
  {
   "cell_type": "code",
   "execution_count": 15,
   "metadata": {},
   "outputs": [],
   "source": [
    "# countour_plot(execute_circ, 42)"
   ]
  },
  {
   "cell_type": "code",
   "execution_count": 16,
   "metadata": {},
   "outputs": [],
   "source": [
    "# small_G = nx.Graph()\n",
    "# small_G.add_nodes_from([0,1,2])\n",
    "# small_G.add_edges_from([(0,1), (1,2)])\n",
    "# nx.draw(small_G)"
   ]
  },
  {
   "cell_type": "code",
   "execution_count": 17,
   "metadata": {},
   "outputs": [],
   "source": [
    "# data = np.linalg.eig(\n",
    "#     nx.adjacency_matrix(circulant_graph(8, [1,3])).todense()\n",
    "# )\n",
    "# eigenvalues = list(data[0])\n",
    "\n",
    "# def execute_circ_small_graph(theta):\n",
    "#     qc = create_circuit(theta, small_G, eigenvalues)\n",
    "#     test = transpile(qc, backend)\n",
    "#     qobj = assemble(test)\n",
    "#     counts = backend.run(qobj, seed_simulator=10, nshots=512).result().get_counts()\n",
    "#     return -compute_expectation(counts, small_G)\n",
    "\n",
    "# countour_plot(execute_circ_small_graph, 52)"
   ]
  },
  {
   "cell_type": "code",
   "execution_count": null,
   "metadata": {},
   "outputs": [],
   "source": []
  }
 ],
 "metadata": {
  "kernelspec": {
   "display_name": "Python 3.9.5 64-bit",
   "language": "python",
   "name": "python3"
  },
  "language_info": {
   "codemirror_mode": {
    "name": "ipython",
    "version": 3
   },
   "file_extension": ".py",
   "mimetype": "text/x-python",
   "name": "python",
   "nbconvert_exporter": "python",
   "pygments_lexer": "ipython3",
   "version": "3.9.5"
  },
  "orig_nbformat": 4,
  "vscode": {
   "interpreter": {
    "hash": "31f2aee4e71d21fbe5cf8b01ff0e069b9275f58929596ceb00d14d90e3e16cd6"
   }
  }
 },
 "nbformat": 4,
 "nbformat_minor": 2
}
